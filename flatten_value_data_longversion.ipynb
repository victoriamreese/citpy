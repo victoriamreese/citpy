{
 "cells": [
  {
   "cell_type": "code",
   "execution_count": null,
   "metadata": {},
   "outputs": [],
   "source": []
  },
  {
   "cell_type": "code",
   "execution_count": 5,
   "metadata": {},
   "outputs": [
    {
     "name": "stdout",
     "output_type": "stream",
     "text": [
      "/Users/vicky/Desktop/CitPy/citpy_analysis\n"
     ]
    }
   ],
   "source": [
    "cd /Users/vicky/Desktop/CitPy/citpy_analysis"
   ]
  },
  {
   "cell_type": "code",
   "execution_count": 6,
   "metadata": {},
   "outputs": [],
   "source": [
    "import pandas as pd"
   ]
  },
  {
   "cell_type": "code",
   "execution_count": 7,
   "metadata": {},
   "outputs": [],
   "source": [
    "from pandas.io.json import json_normalize"
   ]
  },
  {
   "cell_type": "code",
   "execution_count": 8,
   "metadata": {},
   "outputs": [],
   "source": [
    "import json"
   ]
  },
  {
   "cell_type": "code",
   "execution_count": 9,
   "metadata": {},
   "outputs": [],
   "source": [
    "data = pd.read_csv('classifications.csv')"
   ]
  },
  {
   "cell_type": "code",
   "execution_count": 10,
   "metadata": {},
   "outputs": [],
   "source": [
    "data = data[20:25]"
   ]
  },
  {
   "cell_type": "code",
   "execution_count": 11,
   "metadata": {},
   "outputs": [
    {
     "data": {
      "text/html": [
       "<div>\n",
       "<style scoped>\n",
       "    .dataframe tbody tr th:only-of-type {\n",
       "        vertical-align: middle;\n",
       "    }\n",
       "\n",
       "    .dataframe tbody tr th {\n",
       "        vertical-align: top;\n",
       "    }\n",
       "\n",
       "    .dataframe thead th {\n",
       "        text-align: right;\n",
       "    }\n",
       "</style>\n",
       "<table border=\"1\" class=\"dataframe\">\n",
       "  <thead>\n",
       "    <tr style=\"text-align: right;\">\n",
       "      <th></th>\n",
       "      <th>classification_id</th>\n",
       "      <th>user_name</th>\n",
       "      <th>user_id</th>\n",
       "      <th>user_ip</th>\n",
       "      <th>workflow_id</th>\n",
       "      <th>workflow_name</th>\n",
       "      <th>workflow_version</th>\n",
       "      <th>created_at</th>\n",
       "      <th>gold_standard</th>\n",
       "      <th>expert</th>\n",
       "      <th>metadata</th>\n",
       "      <th>annotations</th>\n",
       "      <th>subject_data</th>\n",
       "      <th>subject_ids</th>\n",
       "    </tr>\n",
       "  </thead>\n",
       "  <tbody>\n",
       "    <tr>\n",
       "      <th>20</th>\n",
       "      <td>31365344</td>\n",
       "      <td>not-logged-in-3dfa3cd88ac5a4508e6c</td>\n",
       "      <td>NaN</td>\n",
       "      <td>3dfa3cd88ac5a4508e6c</td>\n",
       "      <td>3449</td>\n",
       "      <td>Measure Leaves</td>\n",
       "      <td>5.8</td>\n",
       "      <td>2017-03-03 15:47:48 UTC</td>\n",
       "      <td>NaN</td>\n",
       "      <td>NaN</td>\n",
       "      <td>{\"session\":\"9f32132514ee144a97288d9dcccfefc78a...</td>\n",
       "      <td>[{\"task\":\"T0\",\"task_label\":\"Drag your finger t...</td>\n",
       "      <td>{\"6262349\":{\"retired\":null,\"latitude\":\"-54.954...</td>\n",
       "      <td>6262349</td>\n",
       "    </tr>\n",
       "    <tr>\n",
       "      <th>21</th>\n",
       "      <td>31368611</td>\n",
       "      <td>not-logged-in-3dfa3cd88ac5a4508e6c</td>\n",
       "      <td>NaN</td>\n",
       "      <td>3dfa3cd88ac5a4508e6c</td>\n",
       "      <td>3449</td>\n",
       "      <td>Measure Leaves</td>\n",
       "      <td>5.8</td>\n",
       "      <td>2017-03-03 15:59:54 UTC</td>\n",
       "      <td>NaN</td>\n",
       "      <td>NaN</td>\n",
       "      <td>{\"session\":\"bbb8c49d0e794a77b9ef18559ccd88689d...</td>\n",
       "      <td>[{\"task\":\"T0\",\"task_label\":\"Drag your finger t...</td>\n",
       "      <td>{\"6262350\":{\"retired\":null,\"latitude\":\"-54.892...</td>\n",
       "      <td>6262350</td>\n",
       "    </tr>\n",
       "    <tr>\n",
       "      <th>22</th>\n",
       "      <td>31377675</td>\n",
       "      <td>fieldmuseumexhibits</td>\n",
       "      <td>1526226.0</td>\n",
       "      <td>3dfa3cd88ac5a4508e6c</td>\n",
       "      <td>3449</td>\n",
       "      <td>Measure Leaves</td>\n",
       "      <td>5.8</td>\n",
       "      <td>2017-03-03 16:42:33 UTC</td>\n",
       "      <td>NaN</td>\n",
       "      <td>NaN</td>\n",
       "      <td>{\"session\":\"1e9e13f70528b9a475faa2025606838446...</td>\n",
       "      <td>[{\"task\":\"T0\",\"task_label\":\"Drag your finger t...</td>\n",
       "      <td>{\"6262389\":{\"retired\":null,\"latitude\":\"-40.967...</td>\n",
       "      <td>6262389</td>\n",
       "    </tr>\n",
       "    <tr>\n",
       "      <th>23</th>\n",
       "      <td>31380650</td>\n",
       "      <td>not-logged-in-c9f87ea6dca2d92c2aa6</td>\n",
       "      <td>NaN</td>\n",
       "      <td>c9f87ea6dca2d92c2aa6</td>\n",
       "      <td>3449</td>\n",
       "      <td>Measure Leaves</td>\n",
       "      <td>5.8</td>\n",
       "      <td>2017-03-03 16:55:02 UTC</td>\n",
       "      <td>NaN</td>\n",
       "      <td>NaN</td>\n",
       "      <td>{\"session\":\"76c4706807bd5dc77cd2666a2013aebef7...</td>\n",
       "      <td>[{\"task\":\"T0\",\"task_label\":\"Drag your finger t...</td>\n",
       "      <td>{\"6262407\":{\"retired\":null,\"latitude\":\"-40.967...</td>\n",
       "      <td>6262407</td>\n",
       "    </tr>\n",
       "    <tr>\n",
       "      <th>24</th>\n",
       "      <td>31380680</td>\n",
       "      <td>not-logged-in-c9f87ea6dca2d92c2aa6</td>\n",
       "      <td>NaN</td>\n",
       "      <td>c9f87ea6dca2d92c2aa6</td>\n",
       "      <td>3449</td>\n",
       "      <td>Measure Leaves</td>\n",
       "      <td>5.8</td>\n",
       "      <td>2017-03-03 16:55:08 UTC</td>\n",
       "      <td>NaN</td>\n",
       "      <td>NaN</td>\n",
       "      <td>{\"session\":\"76c4706807bd5dc77cd2666a2013aebef7...</td>\n",
       "      <td>[{\"task\":\"T0\",\"task_label\":\"Drag your finger t...</td>\n",
       "      <td>{\"6262350\":{\"retired\":null,\"latitude\":\"-54.892...</td>\n",
       "      <td>6262350</td>\n",
       "    </tr>\n",
       "  </tbody>\n",
       "</table>\n",
       "</div>"
      ],
      "text/plain": [
       "    classification_id                           user_name    user_id  \\\n",
       "20           31365344  not-logged-in-3dfa3cd88ac5a4508e6c        NaN   \n",
       "21           31368611  not-logged-in-3dfa3cd88ac5a4508e6c        NaN   \n",
       "22           31377675                 fieldmuseumexhibits  1526226.0   \n",
       "23           31380650  not-logged-in-c9f87ea6dca2d92c2aa6        NaN   \n",
       "24           31380680  not-logged-in-c9f87ea6dca2d92c2aa6        NaN   \n",
       "\n",
       "                 user_ip  workflow_id   workflow_name  workflow_version  \\\n",
       "20  3dfa3cd88ac5a4508e6c         3449  Measure Leaves               5.8   \n",
       "21  3dfa3cd88ac5a4508e6c         3449  Measure Leaves               5.8   \n",
       "22  3dfa3cd88ac5a4508e6c         3449  Measure Leaves               5.8   \n",
       "23  c9f87ea6dca2d92c2aa6         3449  Measure Leaves               5.8   \n",
       "24  c9f87ea6dca2d92c2aa6         3449  Measure Leaves               5.8   \n",
       "\n",
       "                 created_at  gold_standard  expert  \\\n",
       "20  2017-03-03 15:47:48 UTC            NaN     NaN   \n",
       "21  2017-03-03 15:59:54 UTC            NaN     NaN   \n",
       "22  2017-03-03 16:42:33 UTC            NaN     NaN   \n",
       "23  2017-03-03 16:55:02 UTC            NaN     NaN   \n",
       "24  2017-03-03 16:55:08 UTC            NaN     NaN   \n",
       "\n",
       "                                             metadata  \\\n",
       "20  {\"session\":\"9f32132514ee144a97288d9dcccfefc78a...   \n",
       "21  {\"session\":\"bbb8c49d0e794a77b9ef18559ccd88689d...   \n",
       "22  {\"session\":\"1e9e13f70528b9a475faa2025606838446...   \n",
       "23  {\"session\":\"76c4706807bd5dc77cd2666a2013aebef7...   \n",
       "24  {\"session\":\"76c4706807bd5dc77cd2666a2013aebef7...   \n",
       "\n",
       "                                          annotations  \\\n",
       "20  [{\"task\":\"T0\",\"task_label\":\"Drag your finger t...   \n",
       "21  [{\"task\":\"T0\",\"task_label\":\"Drag your finger t...   \n",
       "22  [{\"task\":\"T0\",\"task_label\":\"Drag your finger t...   \n",
       "23  [{\"task\":\"T0\",\"task_label\":\"Drag your finger t...   \n",
       "24  [{\"task\":\"T0\",\"task_label\":\"Drag your finger t...   \n",
       "\n",
       "                                         subject_data  subject_ids  \n",
       "20  {\"6262349\":{\"retired\":null,\"latitude\":\"-54.954...      6262349  \n",
       "21  {\"6262350\":{\"retired\":null,\"latitude\":\"-54.892...      6262350  \n",
       "22  {\"6262389\":{\"retired\":null,\"latitude\":\"-40.967...      6262389  \n",
       "23  {\"6262407\":{\"retired\":null,\"latitude\":\"-40.967...      6262407  \n",
       "24  {\"6262350\":{\"retired\":null,\"latitude\":\"-54.892...      6262350  "
      ]
     },
     "execution_count": 11,
     "metadata": {},
     "output_type": "execute_result"
    }
   ],
   "source": [
    "data"
   ]
  },
  {
   "cell_type": "code",
   "execution_count": null,
   "metadata": {},
   "outputs": [],
   "source": []
  },
  {
   "cell_type": "code",
   "execution_count": 12,
   "metadata": {},
   "outputs": [],
   "source": [
    "test = data.at[20, 'annotations']"
   ]
  },
  {
   "cell_type": "code",
   "execution_count": 13,
   "metadata": {},
   "outputs": [],
   "source": [
    "json_test = json.loads(test)"
   ]
  },
  {
   "cell_type": "code",
   "execution_count": 14,
   "metadata": {},
   "outputs": [
    {
     "data": {
      "text/plain": [
       "{'task': 'T0',\n",
       " 'task_label': 'Drag your finger to draw lines to mark the **width** and **length** of the microleaves in the image on the left. ',\n",
       " 'value': [{'x1': 367,\n",
       "   'x2': 513,\n",
       "   'y1': 367,\n",
       "   'y2': 208,\n",
       "   'tool': 0,\n",
       "   'frame': 0,\n",
       "   'details': [],\n",
       "   'tool_label': 'Leaf Ruler'},\n",
       "  {'x1': 411,\n",
       "   'x2': 499,\n",
       "   'y1': 228,\n",
       "   'y2': 292,\n",
       "   'tool': 0,\n",
       "   'frame': 0,\n",
       "   'details': [],\n",
       "   'tool_label': 'Leaf Ruler'}]}"
      ]
     },
     "execution_count": 14,
     "metadata": {},
     "output_type": "execute_result"
    }
   ],
   "source": [
    "json_test[0]"
   ]
  },
  {
   "cell_type": "code",
   "execution_count": 15,
   "metadata": {},
   "outputs": [],
   "source": [
    "one = json_test[0]"
   ]
  },
  {
   "cell_type": "code",
   "execution_count": 16,
   "metadata": {},
   "outputs": [
    {
     "data": {
      "text/plain": [
       "[{'x1': 367,\n",
       "  'x2': 513,\n",
       "  'y1': 367,\n",
       "  'y2': 208,\n",
       "  'tool': 0,\n",
       "  'frame': 0,\n",
       "  'details': [],\n",
       "  'tool_label': 'Leaf Ruler'},\n",
       " {'x1': 411,\n",
       "  'x2': 499,\n",
       "  'y1': 228,\n",
       "  'y2': 292,\n",
       "  'tool': 0,\n",
       "  'frame': 0,\n",
       "  'details': [],\n",
       "  'tool_label': 'Leaf Ruler'}]"
      ]
     },
     "execution_count": 16,
     "metadata": {},
     "output_type": "execute_result"
    }
   ],
   "source": [
    "one['value']"
   ]
  },
  {
   "cell_type": "code",
   "execution_count": 17,
   "metadata": {},
   "outputs": [],
   "source": [
    "values = one['value']"
   ]
  },
  {
   "cell_type": "code",
   "execution_count": 18,
   "metadata": {},
   "outputs": [
    {
     "data": {
      "text/plain": [
       "{'x1': 367,\n",
       " 'x2': 513,\n",
       " 'y1': 367,\n",
       " 'y2': 208,\n",
       " 'tool': 0,\n",
       " 'frame': 0,\n",
       " 'details': [],\n",
       " 'tool_label': 'Leaf Ruler'}"
      ]
     },
     "execution_count": 18,
     "metadata": {},
     "output_type": "execute_result"
    }
   ],
   "source": [
    "values[0]"
   ]
  },
  {
   "cell_type": "code",
   "execution_count": 19,
   "metadata": {},
   "outputs": [],
   "source": [
    "one_entry = values[0]"
   ]
  },
  {
   "cell_type": "code",
   "execution_count": 20,
   "metadata": {},
   "outputs": [
    {
     "data": {
      "text/plain": [
       "367"
      ]
     },
     "execution_count": 20,
     "metadata": {},
     "output_type": "execute_result"
    }
   ],
   "source": [
    "one_entry['x1']"
   ]
  },
  {
   "cell_type": "code",
   "execution_count": 21,
   "metadata": {},
   "outputs": [
    {
     "name": "stdout",
     "output_type": "stream",
     "text": [
      "{'x1': 367, 'x2': 513, 'y1': 367, 'y2': 208, 'tool': 0, 'frame': 0, 'details': [], 'tool_label': 'Leaf Ruler'}\n",
      "{'x1': 411, 'x2': 499, 'y1': 228, 'y2': 292, 'tool': 0, 'frame': 0, 'details': [], 'tool_label': 'Leaf Ruler'}\n"
     ]
    }
   ],
   "source": [
    "for e in one['value']:\n",
    "    print(e)"
   ]
  },
  {
   "cell_type": "code",
   "execution_count": 22,
   "metadata": {},
   "outputs": [],
   "source": [
    "def make_new_col(annotations_col):\n",
    "    \"\"\"this takes in annotations column, jsonifies and puts into dataframe\n",
    "    \"\"\"\n",
    "    json_col = json.loads(annotations_col)\n",
    "    for entry in json_col:\n",
    "        #print(entry)\n",
    "        #annotations_col.name\n",
    "        x1=[]\n",
    "        y1=[]\n",
    "        x2=[]\n",
    "        y2=[]\n",
    "        for e in entry['value']:   \n",
    "            x1.append(e['x1'])\n",
    "            y1.append(e['y1'])\n",
    "            x2.append(e['x2'])\n",
    "            y2.append(e['y2'])\n",
    "    return pd.DataFrame({'x1':x1, 'y1':y2, 'x2':x2, 'y2':y2})\n",
    "        "
   ]
  },
  {
   "cell_type": "code",
   "execution_count": 23,
   "metadata": {},
   "outputs": [],
   "source": [
    "data['new'] = data['annotations'].apply(make_new_col)"
   ]
  },
  {
   "cell_type": "code",
   "execution_count": 24,
   "metadata": {},
   "outputs": [
    {
     "data": {
      "text/plain": [
       "pandas.core.frame.DataFrame"
      ]
     },
     "execution_count": 24,
     "metadata": {},
     "output_type": "execute_result"
    }
   ],
   "source": [
    "type(data.at[20, 'new'])"
   ]
  },
  {
   "cell_type": "code",
   "execution_count": 25,
   "metadata": {},
   "outputs": [],
   "source": [
    "def make_new_df(new_col):\n",
    "    newdf = pd.DataFrame()\n",
    "    for row in new_col:\n",
    "        newdf.append(row)\n",
    "    return newdf\n",
    "        "
   ]
  },
  {
   "cell_type": "code",
   "execution_count": 26,
   "metadata": {},
   "outputs": [],
   "source": [
    "df = make_new_df(data['new'])"
   ]
  },
  {
   "cell_type": "code",
   "execution_count": 27,
   "metadata": {},
   "outputs": [
    {
     "data": {
      "text/html": [
       "<div>\n",
       "<style scoped>\n",
       "    .dataframe tbody tr th:only-of-type {\n",
       "        vertical-align: middle;\n",
       "    }\n",
       "\n",
       "    .dataframe tbody tr th {\n",
       "        vertical-align: top;\n",
       "    }\n",
       "\n",
       "    .dataframe thead th {\n",
       "        text-align: right;\n",
       "    }\n",
       "</style>\n",
       "<table border=\"1\" class=\"dataframe\">\n",
       "  <thead>\n",
       "    <tr style=\"text-align: right;\">\n",
       "      <th></th>\n",
       "    </tr>\n",
       "  </thead>\n",
       "  <tbody>\n",
       "  </tbody>\n",
       "</table>\n",
       "</div>"
      ],
      "text/plain": [
       "Empty DataFrame\n",
       "Columns: []\n",
       "Index: []"
      ]
     },
     "execution_count": 27,
     "metadata": {},
     "output_type": "execute_result"
    }
   ],
   "source": [
    "df"
   ]
  },
  {
   "cell_type": "code",
   "execution_count": 28,
   "metadata": {},
   "outputs": [],
   "source": [
    "#different strategy - instead of using pd.apply, let's try iterating through rows"
   ]
  },
  {
   "cell_type": "code",
   "execution_count": 37,
   "metadata": {},
   "outputs": [],
   "source": [
    "def iter_val_pull_rowdict(column):\n",
    "   # df = pd.DataFrame(columns = ['row#', 'x1', 'y1', 'x2', 'y2'])\n",
    "    for i, row in enumerate(column):\n",
    "        #print(i, row)\n",
    "        for session in json.loads(row):\n",
    "            for e in session['value']:\n",
    "                d = {'row#':i, 'x1':e['x1'], 'y1': e['y1'], 'x2': e['x2'], 'y2': e['y2']}\n",
    "                print(d)\n",
    "   # print(df)"
   ]
  },
  {
   "cell_type": "code",
   "execution_count": null,
   "metadata": {},
   "outputs": [],
   "source": [
    "#same funciton with list output of coordinate values, not dictionary."
   ]
  },
  {
   "cell_type": "code",
   "execution_count": 49,
   "metadata": {},
   "outputs": [],
   "source": [
    "# returns all measurements - do not use this function... here for reference only.\n",
    "def iter_val_pull_list(column):\n",
    "    for i, row in enumerate(column):\n",
    "        for session in json.loads(row):\n",
    "            for e in session['value']:\n",
    "                d = [e['x1'], e['y1'], e['x2'], e['y2']]\n",
    "                vals_list.append(d)\n",
    "    return vals_list"
   ]
  },
  {
   "cell_type": "code",
   "execution_count": 53,
   "metadata": {},
   "outputs": [],
   "source": [
    "# turns each row of 'annotations' into a list of lists, but operates on individual rows \n",
    "def pull_values_to_list(row):\n",
    "    vals_list=[]\n",
    "    for entries in json.loads(row):\n",
    "        for e in entries['value']:\n",
    "            d = [e['x1'], e['y1'], e['x2'], e['y2']]\n",
    "            vals_list.append(d)\n",
    "    return vals_list"
   ]
  },
  {
   "cell_type": "code",
   "execution_count": 234,
   "metadata": {},
   "outputs": [],
   "source": [
    "# this function prints each column name. keeping for reference\n",
    "def get_column_names(df):\n",
    "    for row in df:\n",
    "        print(row)"
   ]
  },
  {
   "cell_type": "code",
   "execution_count": 54,
   "metadata": {},
   "outputs": [
    {
     "name": "stdout",
     "output_type": "stream",
     "text": [
      "20 not-logged-in-3dfa3cd88ac5a4508e6c [[367, 367, 513, 208], [411, 228, 499, 292]]\n",
      "21 not-logged-in-3dfa3cd88ac5a4508e6c [[494, 116, 363, 261], [381, 127, 476, 205]]\n",
      "22 fieldmuseumexhibits [[448.5, 272, 457.5, 450], [403.5, 334, 499.5, 331]]\n",
      "23 not-logged-in-c9f87ea6dca2d92c2aa6 [[506.154052734375, 390.36083984375, 693.00927734375, 351.509765625], [611.6069946289062, 314.50872802734375, 635.6576538085938, 397.76104736328125], [243.44676208496094, 231.2564239501953, 56.59156799316406, 218.30606079101562], [180.54501342773438, 164.65457153320312, 165.74459838867188, 275.65765380859375]]\n",
      "24 not-logged-in-c9f87ea6dca2d92c2aa6 [[465.45294189453125, 111.00308227539062, 380.3505554199219, 246.0568389892578], [380.3505554199219, 109.15303039550781, 487.6535339355469, 196.10545349121094]]\n"
     ]
    }
   ],
   "source": [
    "#this iterates through dataframe \"data\" and prints index, user_name, and listified annotations.\n",
    "for index, row in data.iterrows():\n",
    "    print(index, row['user_name'], iter_val_pull_list(row['annotations']))"
   ]
  },
  {
   "cell_type": "code",
   "execution_count": 55,
   "metadata": {},
   "outputs": [
    {
     "name": "stdout",
     "output_type": "stream",
     "text": [
      "([367, 367, 513, 208], [411, 228, 499, 292])\n",
      "([367, 367, 513, 208], [494, 116, 363, 261])\n",
      "([367, 367, 513, 208], [381, 127, 476, 205])\n",
      "([411, 228, 499, 292], [494, 116, 363, 261])\n",
      "([411, 228, 499, 292], [381, 127, 476, 205])\n",
      "([494, 116, 363, 261], [381, 127, 476, 205])\n"
     ]
    }
   ],
   "source": [
    "#write function that iterates through list of list of coordinates\n",
    "# 1. checks all combinations for segments intersection (using method from make_plant class)\n",
    "# 2. checks if angle is between 80 and 90 degree (using method from make_plant class)\n",
    "# 3. if these are both \"True\", \n",
    "### a. calculates segment lengths and determine major/minor axes - orders list major, minor axis\n",
    "### b. construct list of needed values: add list to clean_plant dataframe with appropriate column names \n",
    "\n",
    "import itertools\n",
    "test_list = [[367, 367, 513, 208], [411, 228, 499, 292],[494, 116, 363, 261], [381, 127, 476, 205]]\n",
    "\n",
    "for combo in itertools.combinations(test_list, 2):\n",
    "    # if make_plant.check_intersection(combo) and make_plant.check_angle(combo):\n",
    "       #add_row_to_plant_df(combo) - this will move \n",
    "    print(combo)"
   ]
  },
  {
   "cell_type": "code",
   "execution_count": null,
   "metadata": {},
   "outputs": [],
   "source": []
  }
 ],
 "metadata": {
  "kernelspec": {
   "display_name": "Python 3",
   "language": "python",
   "name": "python3"
  },
  "language_info": {
   "codemirror_mode": {
    "name": "ipython",
    "version": 3
   },
   "file_extension": ".py",
   "mimetype": "text/x-python",
   "name": "python",
   "nbconvert_exporter": "python",
   "pygments_lexer": "ipython3",
   "version": "3.6.5"
  }
 },
 "nbformat": 4,
 "nbformat_minor": 2
}
