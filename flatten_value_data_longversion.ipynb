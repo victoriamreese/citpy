{
 "cells": [
  {
   "cell_type": "code",
   "execution_count": 2,
   "metadata": {},
   "outputs": [],
   "source": []
  },
  {
   "cell_type": "code",
   "execution_count": 3,
   "metadata": {},
   "outputs": [
    {
     "name": "stdout",
     "output_type": "stream",
     "text": [
      "/Users/vicky/Desktop/CitPy/citpy_analysis\n"
     ]
    }
   ],
   "source": [
    "cd /Users/vicky/Desktop/CitPy/citpy_analysis"
   ]
  },
  {
   "cell_type": "code",
   "execution_count": 4,
   "metadata": {},
   "outputs": [],
   "source": [
    "import pandas as pd"
   ]
  },
  {
   "cell_type": "code",
   "execution_count": 5,
   "metadata": {},
   "outputs": [],
   "source": [
    "from pandas.io.json import json_normalize"
   ]
  },
  {
   "cell_type": "code",
   "execution_count": 6,
   "metadata": {},
   "outputs": [],
   "source": [
    "import json"
   ]
  },
  {
   "cell_type": "code",
   "execution_count": 7,
   "metadata": {},
   "outputs": [],
   "source": [
    "data = pd.read_csv('classifications.csv')"
   ]
  },
  {
   "cell_type": "code",
   "execution_count": 8,
   "metadata": {},
   "outputs": [],
   "source": [
    "data = data[20:25]"
   ]
  },
  {
   "cell_type": "code",
   "execution_count": 10,
   "metadata": {},
   "outputs": [],
   "source": [
    "test = data.at[20, 'annotations']"
   ]
  },
  {
   "cell_type": "code",
   "execution_count": 14,
   "metadata": {},
   "outputs": [],
   "source": [
    "json_test = json.loads(test)"
   ]
  },
  {
   "cell_type": "code",
   "execution_count": 22,
   "metadata": {},
   "outputs": [
    {
     "data": {
      "text/plain": [
       "{'task': 'T0',\n",
       " 'task_label': 'Drag your finger to draw lines to mark the **width** and **length** of the microleaves in the image on the left. ',\n",
       " 'value': [{'x1': 367,\n",
       "   'x2': 513,\n",
       "   'y1': 367,\n",
       "   'y2': 208,\n",
       "   'tool': 0,\n",
       "   'frame': 0,\n",
       "   'details': [],\n",
       "   'tool_label': 'Leaf Ruler'},\n",
       "  {'x1': 411,\n",
       "   'x2': 499,\n",
       "   'y1': 228,\n",
       "   'y2': 292,\n",
       "   'tool': 0,\n",
       "   'frame': 0,\n",
       "   'details': [],\n",
       "   'tool_label': 'Leaf Ruler'}]}"
      ]
     },
     "execution_count": 22,
     "metadata": {},
     "output_type": "execute_result"
    }
   ],
   "source": [
    "json_test[0]"
   ]
  },
  {
   "cell_type": "code",
   "execution_count": null,
   "metadata": {},
   "outputs": [],
   "source": [
    "one = json_test[0]"
   ]
  },
  {
   "cell_type": "code",
   "execution_count": 18,
   "metadata": {},
   "outputs": [
    {
     "data": {
      "text/plain": [
       "[{'x1': 367,\n",
       "  'x2': 513,\n",
       "  'y1': 367,\n",
       "  'y2': 208,\n",
       "  'tool': 0,\n",
       "  'frame': 0,\n",
       "  'details': [],\n",
       "  'tool_label': 'Leaf Ruler'},\n",
       " {'x1': 411,\n",
       "  'x2': 499,\n",
       "  'y1': 228,\n",
       "  'y2': 292,\n",
       "  'tool': 0,\n",
       "  'frame': 0,\n",
       "  'details': [],\n",
       "  'tool_label': 'Leaf Ruler'}]"
      ]
     },
     "execution_count": 18,
     "metadata": {},
     "output_type": "execute_result"
    }
   ],
   "source": [
    "one['value']"
   ]
  },
  {
   "cell_type": "code",
   "execution_count": 19,
   "metadata": {},
   "outputs": [],
   "source": [
    "values = one['value']"
   ]
  },
  {
   "cell_type": "code",
   "execution_count": 21,
   "metadata": {},
   "outputs": [
    {
     "data": {
      "text/plain": [
       "{'x1': 367,\n",
       " 'x2': 513,\n",
       " 'y1': 367,\n",
       " 'y2': 208,\n",
       " 'tool': 0,\n",
       " 'frame': 0,\n",
       " 'details': [],\n",
       " 'tool_label': 'Leaf Ruler'}"
      ]
     },
     "execution_count": 21,
     "metadata": {},
     "output_type": "execute_result"
    }
   ],
   "source": [
    "values[0]"
   ]
  },
  {
   "cell_type": "code",
   "execution_count": 23,
   "metadata": {},
   "outputs": [],
   "source": [
    "one_entry = values[0]"
   ]
  },
  {
   "cell_type": "code",
   "execution_count": 24,
   "metadata": {},
   "outputs": [
    {
     "data": {
      "text/plain": [
       "367"
      ]
     },
     "execution_count": 24,
     "metadata": {},
     "output_type": "execute_result"
    }
   ],
   "source": [
    "one_entry['x1']"
   ]
  },
  {
   "cell_type": "code",
   "execution_count": null,
   "metadata": {},
   "outputs": [],
   "source": []
  }
 ],
 "metadata": {
  "kernelspec": {
   "display_name": "Python 3",
   "language": "python",
   "name": "python3"
  },
  "language_info": {
   "codemirror_mode": {
    "name": "ipython",
    "version": 3
   },
   "file_extension": ".py",
   "mimetype": "text/x-python",
   "name": "python",
   "nbconvert_exporter": "python",
   "pygments_lexer": "ipython3",
   "version": "3.6.5"
  }
 },
 "nbformat": 4,
 "nbformat_minor": 2
}
