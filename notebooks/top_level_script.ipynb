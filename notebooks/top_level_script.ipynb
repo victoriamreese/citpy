{
 "cells": [
  {
   "cell_type": "code",
   "execution_count": null,
   "metadata": {},
   "outputs": [],
   "source": [
    "#write function that iterates through list of list of coordinates\n",
    "# 1. checks all combinations for segments intersection (using method from make_plant class)\n",
    "# 2. checks if angle is between 80 and 90 degree (using method from make_plant class)\n",
    "# 3. if these are both \"True\", \n",
    "### a. calculates segment lengths and determine major/minor axes - orders list major, minor axis\n",
    "### b. construct list of needed values: add list to clean_plant dataframe with appropriate column names \n",
    "import itertools\n",
    "\n",
    "def make_plant_datasheet(data_table):\n",
    "    \"\"\"\n",
    "    takes the data.annotations column as a parameter\n",
    "    returns dataframe with individual segment coordinates stored in a row\n",
    "    \"\"\"\n",
    "   # df = pd.DataFrame() #columns = [0: 'classification_id', 'username', 'created_at', 'subject_data' , 'angle', 'major_axis_length', 'x1_major', 'x2_major', 'y1_major', 'y2_major', 'minor_axis_length', 'x1_minor', 'x2_minor', 'y1_minor', 'y2_minor'] (will rename at end)\n",
    "    for row_num in range(len(data_table)):\n",
    "        for combo in itertools.combinations(data_table.coordinate_values[row_num], 2):\n",
    "        #if make_plant.check_intersection(combo) and make_plant.check_angle(combo):\n",
    "       #major_axis_length = plant.major_axis_length(combo)\n",
    "        print(combo)\n",
    "        \n",
    "        \n",
    "        #df = df.append([[data_table.classification_id[row_num], data_table.username[row_num], data_table.created_at[row_num],  combo[0][1], combo[0][2], combo[0][3], combo[0][4],  ]])\n",
    "    \n",
    "   # df = df.rename({0: 'classification_id', 1: 'username', 2: 'created_at', 3: 'subject_data' , 4: 'angle', 5: 'major_axis_length', 6: 'x1_major', 7:'x2_major', 8:'y1_major', 9:'y2_major', 10:'minor_axis_length', 11:'x1_minor', 12:'x2_minor', 13:'y1_minor', 14:'y2_minor'}, axis = 'columns')\n",
    "   # return df"
   ]
  }
 ],
 "metadata": {
  "kernelspec": {
   "display_name": "Python 3",
   "language": "python",
   "name": "python3"
  },
  "language_info": {
   "codemirror_mode": {
    "name": "ipython",
    "version": 3
   },
   "file_extension": ".py",
   "mimetype": "text/x-python",
   "name": "python",
   "nbconvert_exporter": "python",
   "pygments_lexer": "ipython3",
   "version": "3.6.5"
  }
 },
 "nbformat": 4,
 "nbformat_minor": 2
}
