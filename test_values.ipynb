{
 "cells": [
  {
   "cell_type": "code",
   "execution_count": 41,
   "metadata": {},
   "outputs": [
    {
     "name": "stdout",
     "output_type": "stream",
     "text": [
      "[Errno 2] No such file or directory: '/Users/vicky/Desktop/CitPy/citpy_analysis # path to file here'\n",
      "/Users/vicky/Desktop/CitPy/citpy_analysis\n"
     ]
    }
   ],
   "source": [
    "cd /Users/vicky/Desktop/CitPy/citpy_analysis # path to file here"
   ]
  },
  {
   "cell_type": "code",
   "execution_count": 42,
   "metadata": {},
   "outputs": [],
   "source": [
    "import pandas as pd"
   ]
  },
  {
   "cell_type": "code",
   "execution_count": 43,
   "metadata": {},
   "outputs": [],
   "source": [
    "from pandas.io.json import json_normalize"
   ]
  },
  {
   "cell_type": "code",
   "execution_count": 44,
   "metadata": {},
   "outputs": [],
   "source": [
    "import json"
   ]
  },
  {
   "cell_type": "code",
   "execution_count": 45,
   "metadata": {},
   "outputs": [],
   "source": [
    "data = pd.read_csv('classifications.csv')"
   ]
  },
  {
   "cell_type": "code",
   "execution_count": 46,
   "metadata": {},
   "outputs": [],
   "source": [
    "data = data[20:25]"
   ]
  },
  {
   "cell_type": "code",
   "execution_count": 47,
   "metadata": {},
   "outputs": [],
   "source": [
    "jsonify = lambda x: json.loads(x)"
   ]
  },
  {
   "cell_type": "code",
   "execution_count": 48,
   "metadata": {},
   "outputs": [],
   "source": [
    "data['json_annotations'] = data['annotations'].apply(jsonify)"
   ]
  },
  {
   "cell_type": "code",
   "execution_count": 49,
   "metadata": {},
   "outputs": [],
   "source": [
    "def get_segments(json_data):\n",
    "    \"\"\"\n",
    "    takes json object as parameter\n",
    "    returns dataframe with individual segment coordinates stored in a row\n",
    "    \"\"\"\n",
    "    df = pd.DataFrame(columns = ['x1', 'x2', 'y1', 'y2'])\n",
    "    for entry in json_data:\n",
    "        newdf = pd.concat([pd.DataFrame(json_normalize(value_set), columns=['x1', 'x2', 'y1', 'y2']) for value_set in entry[\"value\"]], ignore_index = True)\n",
    "        #df.append(val_set)\n",
    "    return newdf\n",
    "        "
   ]
  },
  {
   "cell_type": "code",
   "execution_count": 54,
   "metadata": {},
   "outputs": [],
   "source": [
    "what_is_this = data['json_annotations'].apply(get_segments)"
   ]
  },
  {
   "cell_type": "code",
   "execution_count": 58,
   "metadata": {},
   "outputs": [
    {
     "data": {
      "text/plain": [
       "20        x1   x2   y1   y2\n",
       "0  367  513  367  208\n",
       "1 ...\n",
       "21        x1   x2   y1   y2\n",
       "0  494  363  116  261\n",
       "1 ...\n",
       "22          x1     x2   y1   y2\n",
       "0  448.5  457.5  272...\n",
       "23               x1          x2          y1         ...\n",
       "24               x1          x2          y1         ...\n",
       "Name: json_annotations, dtype: object"
      ]
     },
     "execution_count": 58,
     "metadata": {},
     "output_type": "execute_result"
    }
   ],
   "source": [
    "what_is_this"
   ]
  },
  {
   "cell_type": "code",
   "execution_count": 73,
   "metadata": {},
   "outputs": [],
   "source": [
    "newdf = pd.DataFrame(columns = ['x1', 'x2', 'y1', 'y2'])"
   ]
  },
  {
   "cell_type": "code",
   "execution_count": 59,
   "metadata": {},
   "outputs": [
    {
     "data": {
      "text/plain": [
       "20    Empty DataFrame\n",
       "Columns: [x1, x2, y1, y2]\n",
       "Inde...\n",
       "21    Empty DataFrame\n",
       "Columns: [x1, x2, y1, y2]\n",
       "Inde...\n",
       "22    Empty DataFrame\n",
       "Columns: [x1, x2, y1, y2]\n",
       "Inde...\n",
       "23    Empty DataFrame\n",
       "Columns: [x1, x2, y1, y2]\n",
       "Inde...\n",
       "24    Empty DataFrame\n",
       "Columns: [x1, x2, y1, y2]\n",
       "Inde...\n",
       "20        x1   x2   y1   y2\n",
       "0  367  513  367  208\n",
       "1 ...\n",
       "21        x1   x2   y1   y2\n",
       "0  494  363  116  261\n",
       "1 ...\n",
       "22          x1     x2   y1   y2\n",
       "0  448.5  457.5  272...\n",
       "23               x1          x2          y1         ...\n",
       "24               x1          x2          y1         ...\n",
       "Name: json_annotations, dtype: object"
      ]
     },
     "execution_count": 59,
     "metadata": {},
     "output_type": "execute_result"
    }
   ],
   "source": [
    "newdf.append(what_is_this)"
   ]
  },
  {
   "cell_type": "code",
   "execution_count": null,
   "metadata": {},
   "outputs": [],
   "source": []
  }
 ],
 "metadata": {
  "kernelspec": {
   "display_name": "Python 3",
   "language": "python",
   "name": "python3"
  },
  "language_info": {
   "codemirror_mode": {
    "name": "ipython",
    "version": 3
   },
   "file_extension": ".py",
   "mimetype": "text/x-python",
   "name": "python",
   "nbconvert_exporter": "python",
   "pygments_lexer": "ipython3",
   "version": "3.6.5"
  }
 },
 "nbformat": 4,
 "nbformat_minor": 2
}
