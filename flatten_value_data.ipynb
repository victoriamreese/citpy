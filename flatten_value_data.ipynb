{
 "cells": [
  {
   "cell_type": "code",
   "execution_count": null,
   "metadata": {},
   "outputs": [],
   "source": []
  },
  {
   "cell_type": "code",
   "execution_count": 50,
   "metadata": {},
   "outputs": [
    {
     "name": "stdout",
     "output_type": "stream",
     "text": [
      "/Users/vicky/Desktop/CitPy/citpy_analysis\n"
     ]
    }
   ],
   "source": [
    "cd /Users/vicky/Desktop/CitPy/citpy_analysis"
   ]
  },
  {
   "cell_type": "code",
   "execution_count": 51,
   "metadata": {},
   "outputs": [],
   "source": [
    "import pandas as pd"
   ]
  },
  {
   "cell_type": "code",
   "execution_count": 52,
   "metadata": {},
   "outputs": [],
   "source": [
    "from pandas.io.json import json_normalize"
   ]
  },
  {
   "cell_type": "code",
   "execution_count": 53,
   "metadata": {},
   "outputs": [],
   "source": [
    "import json"
   ]
  },
  {
   "cell_type": "code",
   "execution_count": 54,
   "metadata": {},
   "outputs": [],
   "source": [
    "data = pd.read_csv('classifications.csv')"
   ]
  },
  {
   "cell_type": "code",
   "execution_count": 55,
   "metadata": {},
   "outputs": [],
   "source": [
    "data = data[20:25]"
   ]
  },
  {
   "cell_type": "code",
   "execution_count": 56,
   "metadata": {},
   "outputs": [
    {
     "data": {
      "text/html": [
       "<div>\n",
       "<style scoped>\n",
       "    .dataframe tbody tr th:only-of-type {\n",
       "        vertical-align: middle;\n",
       "    }\n",
       "\n",
       "    .dataframe tbody tr th {\n",
       "        vertical-align: top;\n",
       "    }\n",
       "\n",
       "    .dataframe thead th {\n",
       "        text-align: right;\n",
       "    }\n",
       "</style>\n",
       "<table border=\"1\" class=\"dataframe\">\n",
       "  <thead>\n",
       "    <tr style=\"text-align: right;\">\n",
       "      <th></th>\n",
       "      <th>classification_id</th>\n",
       "      <th>user_name</th>\n",
       "      <th>user_id</th>\n",
       "      <th>user_ip</th>\n",
       "      <th>workflow_id</th>\n",
       "      <th>workflow_name</th>\n",
       "      <th>workflow_version</th>\n",
       "      <th>created_at</th>\n",
       "      <th>gold_standard</th>\n",
       "      <th>expert</th>\n",
       "      <th>metadata</th>\n",
       "      <th>annotations</th>\n",
       "      <th>subject_data</th>\n",
       "      <th>subject_ids</th>\n",
       "    </tr>\n",
       "  </thead>\n",
       "  <tbody>\n",
       "    <tr>\n",
       "      <th>20</th>\n",
       "      <td>31365344</td>\n",
       "      <td>not-logged-in-3dfa3cd88ac5a4508e6c</td>\n",
       "      <td>NaN</td>\n",
       "      <td>3dfa3cd88ac5a4508e6c</td>\n",
       "      <td>3449</td>\n",
       "      <td>Measure Leaves</td>\n",
       "      <td>5.8</td>\n",
       "      <td>2017-03-03 15:47:48 UTC</td>\n",
       "      <td>NaN</td>\n",
       "      <td>NaN</td>\n",
       "      <td>{\"session\":\"9f32132514ee144a97288d9dcccfefc78a...</td>\n",
       "      <td>[{\"task\":\"T0\",\"task_label\":\"Drag your finger t...</td>\n",
       "      <td>{\"6262349\":{\"retired\":null,\"latitude\":\"-54.954...</td>\n",
       "      <td>6262349</td>\n",
       "    </tr>\n",
       "    <tr>\n",
       "      <th>21</th>\n",
       "      <td>31368611</td>\n",
       "      <td>not-logged-in-3dfa3cd88ac5a4508e6c</td>\n",
       "      <td>NaN</td>\n",
       "      <td>3dfa3cd88ac5a4508e6c</td>\n",
       "      <td>3449</td>\n",
       "      <td>Measure Leaves</td>\n",
       "      <td>5.8</td>\n",
       "      <td>2017-03-03 15:59:54 UTC</td>\n",
       "      <td>NaN</td>\n",
       "      <td>NaN</td>\n",
       "      <td>{\"session\":\"bbb8c49d0e794a77b9ef18559ccd88689d...</td>\n",
       "      <td>[{\"task\":\"T0\",\"task_label\":\"Drag your finger t...</td>\n",
       "      <td>{\"6262350\":{\"retired\":null,\"latitude\":\"-54.892...</td>\n",
       "      <td>6262350</td>\n",
       "    </tr>\n",
       "    <tr>\n",
       "      <th>22</th>\n",
       "      <td>31377675</td>\n",
       "      <td>fieldmuseumexhibits</td>\n",
       "      <td>1526226.0</td>\n",
       "      <td>3dfa3cd88ac5a4508e6c</td>\n",
       "      <td>3449</td>\n",
       "      <td>Measure Leaves</td>\n",
       "      <td>5.8</td>\n",
       "      <td>2017-03-03 16:42:33 UTC</td>\n",
       "      <td>NaN</td>\n",
       "      <td>NaN</td>\n",
       "      <td>{\"session\":\"1e9e13f70528b9a475faa2025606838446...</td>\n",
       "      <td>[{\"task\":\"T0\",\"task_label\":\"Drag your finger t...</td>\n",
       "      <td>{\"6262389\":{\"retired\":null,\"latitude\":\"-40.967...</td>\n",
       "      <td>6262389</td>\n",
       "    </tr>\n",
       "    <tr>\n",
       "      <th>23</th>\n",
       "      <td>31380650</td>\n",
       "      <td>not-logged-in-c9f87ea6dca2d92c2aa6</td>\n",
       "      <td>NaN</td>\n",
       "      <td>c9f87ea6dca2d92c2aa6</td>\n",
       "      <td>3449</td>\n",
       "      <td>Measure Leaves</td>\n",
       "      <td>5.8</td>\n",
       "      <td>2017-03-03 16:55:02 UTC</td>\n",
       "      <td>NaN</td>\n",
       "      <td>NaN</td>\n",
       "      <td>{\"session\":\"76c4706807bd5dc77cd2666a2013aebef7...</td>\n",
       "      <td>[{\"task\":\"T0\",\"task_label\":\"Drag your finger t...</td>\n",
       "      <td>{\"6262407\":{\"retired\":null,\"latitude\":\"-40.967...</td>\n",
       "      <td>6262407</td>\n",
       "    </tr>\n",
       "    <tr>\n",
       "      <th>24</th>\n",
       "      <td>31380680</td>\n",
       "      <td>not-logged-in-c9f87ea6dca2d92c2aa6</td>\n",
       "      <td>NaN</td>\n",
       "      <td>c9f87ea6dca2d92c2aa6</td>\n",
       "      <td>3449</td>\n",
       "      <td>Measure Leaves</td>\n",
       "      <td>5.8</td>\n",
       "      <td>2017-03-03 16:55:08 UTC</td>\n",
       "      <td>NaN</td>\n",
       "      <td>NaN</td>\n",
       "      <td>{\"session\":\"76c4706807bd5dc77cd2666a2013aebef7...</td>\n",
       "      <td>[{\"task\":\"T0\",\"task_label\":\"Drag your finger t...</td>\n",
       "      <td>{\"6262350\":{\"retired\":null,\"latitude\":\"-54.892...</td>\n",
       "      <td>6262350</td>\n",
       "    </tr>\n",
       "  </tbody>\n",
       "</table>\n",
       "</div>"
      ],
      "text/plain": [
       "    classification_id                           user_name    user_id  \\\n",
       "20           31365344  not-logged-in-3dfa3cd88ac5a4508e6c        NaN   \n",
       "21           31368611  not-logged-in-3dfa3cd88ac5a4508e6c        NaN   \n",
       "22           31377675                 fieldmuseumexhibits  1526226.0   \n",
       "23           31380650  not-logged-in-c9f87ea6dca2d92c2aa6        NaN   \n",
       "24           31380680  not-logged-in-c9f87ea6dca2d92c2aa6        NaN   \n",
       "\n",
       "                 user_ip  workflow_id   workflow_name  workflow_version  \\\n",
       "20  3dfa3cd88ac5a4508e6c         3449  Measure Leaves               5.8   \n",
       "21  3dfa3cd88ac5a4508e6c         3449  Measure Leaves               5.8   \n",
       "22  3dfa3cd88ac5a4508e6c         3449  Measure Leaves               5.8   \n",
       "23  c9f87ea6dca2d92c2aa6         3449  Measure Leaves               5.8   \n",
       "24  c9f87ea6dca2d92c2aa6         3449  Measure Leaves               5.8   \n",
       "\n",
       "                 created_at  gold_standard  expert  \\\n",
       "20  2017-03-03 15:47:48 UTC            NaN     NaN   \n",
       "21  2017-03-03 15:59:54 UTC            NaN     NaN   \n",
       "22  2017-03-03 16:42:33 UTC            NaN     NaN   \n",
       "23  2017-03-03 16:55:02 UTC            NaN     NaN   \n",
       "24  2017-03-03 16:55:08 UTC            NaN     NaN   \n",
       "\n",
       "                                             metadata  \\\n",
       "20  {\"session\":\"9f32132514ee144a97288d9dcccfefc78a...   \n",
       "21  {\"session\":\"bbb8c49d0e794a77b9ef18559ccd88689d...   \n",
       "22  {\"session\":\"1e9e13f70528b9a475faa2025606838446...   \n",
       "23  {\"session\":\"76c4706807bd5dc77cd2666a2013aebef7...   \n",
       "24  {\"session\":\"76c4706807bd5dc77cd2666a2013aebef7...   \n",
       "\n",
       "                                          annotations  \\\n",
       "20  [{\"task\":\"T0\",\"task_label\":\"Drag your finger t...   \n",
       "21  [{\"task\":\"T0\",\"task_label\":\"Drag your finger t...   \n",
       "22  [{\"task\":\"T0\",\"task_label\":\"Drag your finger t...   \n",
       "23  [{\"task\":\"T0\",\"task_label\":\"Drag your finger t...   \n",
       "24  [{\"task\":\"T0\",\"task_label\":\"Drag your finger t...   \n",
       "\n",
       "                                         subject_data  subject_ids  \n",
       "20  {\"6262349\":{\"retired\":null,\"latitude\":\"-54.954...      6262349  \n",
       "21  {\"6262350\":{\"retired\":null,\"latitude\":\"-54.892...      6262350  \n",
       "22  {\"6262389\":{\"retired\":null,\"latitude\":\"-40.967...      6262389  \n",
       "23  {\"6262407\":{\"retired\":null,\"latitude\":\"-40.967...      6262407  \n",
       "24  {\"6262350\":{\"retired\":null,\"latitude\":\"-54.892...      6262350  "
      ]
     },
     "execution_count": 56,
     "metadata": {},
     "output_type": "execute_result"
    }
   ],
   "source": [
    "data"
   ]
  },
  {
   "cell_type": "code",
   "execution_count": 67,
   "metadata": {},
   "outputs": [],
   "source": [
    "def scrape_values(data_table):\n",
    "    \"\"\"\n",
    "    takes the data.annotations column as a parameter\n",
    "    returns dataframe with individual segment coordinates stored in a row\n",
    "    \"\"\"\n",
    "    df = pd.DataFrame() #columns = ['session_id', 'x1', 'x2', 'y1', 'y2'] (will rename at end)\n",
    "    for row_num in range(len(data_table)):\n",
    "        for entry in json.loads(data_table.annotations[row_num])[0]['value']:\n",
    "            df = df.append([[data_table.classification_id[row_num],  entry['x1'], entry['x2'], entry['y1'], entry['y2'] ]])\n",
    "    df = df.rename({0: 'Session_ID', 1: 'x1', 2: 'x2', 3: 'y1', 4: 'y2'}, axis = 'columns')\n",
    "    return df"
   ]
  },
  {
   "cell_type": "code",
   "execution_count": 68,
   "metadata": {},
   "outputs": [
    {
     "ename": "KeyError",
     "evalue": "0",
     "output_type": "error",
     "traceback": [
      "\u001b[0;31m---------------------------------------------------------------------------\u001b[0m",
      "\u001b[0;31mKeyError\u001b[0m                                  Traceback (most recent call last)",
      "\u001b[0;32m<ipython-input-68-4e5454cdb7a8>\u001b[0m in \u001b[0;36m<module>\u001b[0;34m()\u001b[0m\n\u001b[0;32m----> 1\u001b[0;31m \u001b[0mscrape_values\u001b[0m\u001b[0;34m(\u001b[0m\u001b[0mdata\u001b[0m\u001b[0;34m)\u001b[0m\u001b[0;34m\u001b[0m\u001b[0m\n\u001b[0m",
      "\u001b[0;32m<ipython-input-67-7d2825112769>\u001b[0m in \u001b[0;36mscrape_values\u001b[0;34m(data_table)\u001b[0m\n\u001b[1;32m      6\u001b[0m     \u001b[0mdf\u001b[0m \u001b[0;34m=\u001b[0m \u001b[0mpd\u001b[0m\u001b[0;34m.\u001b[0m\u001b[0mDataFrame\u001b[0m\u001b[0;34m(\u001b[0m\u001b[0;34m)\u001b[0m \u001b[0;31m#columns = ['session_id', 'x1', 'x2', 'y1', 'y2'] (will rename at end)\u001b[0m\u001b[0;34m\u001b[0m\u001b[0m\n\u001b[1;32m      7\u001b[0m     \u001b[0;32mfor\u001b[0m \u001b[0mrow_num\u001b[0m \u001b[0;32min\u001b[0m \u001b[0mrange\u001b[0m\u001b[0;34m(\u001b[0m\u001b[0mlen\u001b[0m\u001b[0;34m(\u001b[0m\u001b[0mdata_table\u001b[0m\u001b[0;34m)\u001b[0m\u001b[0;34m)\u001b[0m\u001b[0;34m:\u001b[0m\u001b[0;34m\u001b[0m\u001b[0m\n\u001b[0;32m----> 8\u001b[0;31m         \u001b[0;32mfor\u001b[0m \u001b[0mentry\u001b[0m \u001b[0;32min\u001b[0m \u001b[0mjson\u001b[0m\u001b[0;34m.\u001b[0m\u001b[0mloads\u001b[0m\u001b[0;34m(\u001b[0m\u001b[0mdata_table\u001b[0m\u001b[0;34m.\u001b[0m\u001b[0mannotations\u001b[0m\u001b[0;34m[\u001b[0m\u001b[0mrow_num\u001b[0m\u001b[0;34m]\u001b[0m\u001b[0;34m)\u001b[0m\u001b[0;34m[\u001b[0m\u001b[0;36m0\u001b[0m\u001b[0;34m]\u001b[0m\u001b[0;34m[\u001b[0m\u001b[0;34m'value'\u001b[0m\u001b[0;34m]\u001b[0m\u001b[0;34m:\u001b[0m\u001b[0;34m\u001b[0m\u001b[0m\n\u001b[0m\u001b[1;32m      9\u001b[0m             \u001b[0mdf\u001b[0m \u001b[0;34m=\u001b[0m \u001b[0mdf\u001b[0m\u001b[0;34m.\u001b[0m\u001b[0mappend\u001b[0m\u001b[0;34m(\u001b[0m\u001b[0;34m[\u001b[0m\u001b[0;34m[\u001b[0m\u001b[0mdata_table\u001b[0m\u001b[0;34m.\u001b[0m\u001b[0mclassification_id\u001b[0m\u001b[0;34m[\u001b[0m\u001b[0mrow_num\u001b[0m\u001b[0;34m]\u001b[0m\u001b[0;34m,\u001b[0m  \u001b[0mentry\u001b[0m\u001b[0;34m[\u001b[0m\u001b[0;34m'x1'\u001b[0m\u001b[0;34m]\u001b[0m\u001b[0;34m,\u001b[0m \u001b[0mentry\u001b[0m\u001b[0;34m[\u001b[0m\u001b[0;34m'x2'\u001b[0m\u001b[0;34m]\u001b[0m\u001b[0;34m,\u001b[0m \u001b[0mentry\u001b[0m\u001b[0;34m[\u001b[0m\u001b[0;34m'y1'\u001b[0m\u001b[0;34m]\u001b[0m\u001b[0;34m,\u001b[0m \u001b[0mentry\u001b[0m\u001b[0;34m[\u001b[0m\u001b[0;34m'y2'\u001b[0m\u001b[0;34m]\u001b[0m \u001b[0;34m]\u001b[0m\u001b[0;34m]\u001b[0m\u001b[0;34m)\u001b[0m\u001b[0;34m\u001b[0m\u001b[0m\n\u001b[1;32m     10\u001b[0m     \u001b[0mdf\u001b[0m \u001b[0;34m=\u001b[0m \u001b[0mdf\u001b[0m\u001b[0;34m.\u001b[0m\u001b[0mrename\u001b[0m\u001b[0;34m(\u001b[0m\u001b[0;34m{\u001b[0m\u001b[0;36m0\u001b[0m\u001b[0;34m:\u001b[0m \u001b[0;34m'Session_ID'\u001b[0m\u001b[0;34m,\u001b[0m \u001b[0;36m1\u001b[0m\u001b[0;34m:\u001b[0m \u001b[0;34m'x1'\u001b[0m\u001b[0;34m,\u001b[0m \u001b[0;36m2\u001b[0m\u001b[0;34m:\u001b[0m \u001b[0;34m'x2'\u001b[0m\u001b[0;34m,\u001b[0m \u001b[0;36m3\u001b[0m\u001b[0;34m:\u001b[0m \u001b[0;34m'y1'\u001b[0m\u001b[0;34m,\u001b[0m \u001b[0;36m4\u001b[0m\u001b[0;34m:\u001b[0m \u001b[0;34m'y2'\u001b[0m\u001b[0;34m}\u001b[0m\u001b[0;34m,\u001b[0m \u001b[0maxis\u001b[0m \u001b[0;34m=\u001b[0m \u001b[0;34m'columns'\u001b[0m\u001b[0;34m)\u001b[0m\u001b[0;34m\u001b[0m\u001b[0m\n",
      "\u001b[0;32m~/anaconda3/lib/python3.6/site-packages/pandas/core/series.py\u001b[0m in \u001b[0;36m__getitem__\u001b[0;34m(self, key)\u001b[0m\n\u001b[1;32m    764\u001b[0m         \u001b[0mkey\u001b[0m \u001b[0;34m=\u001b[0m \u001b[0mcom\u001b[0m\u001b[0;34m.\u001b[0m\u001b[0m_apply_if_callable\u001b[0m\u001b[0;34m(\u001b[0m\u001b[0mkey\u001b[0m\u001b[0;34m,\u001b[0m \u001b[0mself\u001b[0m\u001b[0;34m)\u001b[0m\u001b[0;34m\u001b[0m\u001b[0m\n\u001b[1;32m    765\u001b[0m         \u001b[0;32mtry\u001b[0m\u001b[0;34m:\u001b[0m\u001b[0;34m\u001b[0m\u001b[0m\n\u001b[0;32m--> 766\u001b[0;31m             \u001b[0mresult\u001b[0m \u001b[0;34m=\u001b[0m \u001b[0mself\u001b[0m\u001b[0;34m.\u001b[0m\u001b[0mindex\u001b[0m\u001b[0;34m.\u001b[0m\u001b[0mget_value\u001b[0m\u001b[0;34m(\u001b[0m\u001b[0mself\u001b[0m\u001b[0;34m,\u001b[0m \u001b[0mkey\u001b[0m\u001b[0;34m)\u001b[0m\u001b[0;34m\u001b[0m\u001b[0m\n\u001b[0m\u001b[1;32m    767\u001b[0m \u001b[0;34m\u001b[0m\u001b[0m\n\u001b[1;32m    768\u001b[0m             \u001b[0;32mif\u001b[0m \u001b[0;32mnot\u001b[0m \u001b[0mis_scalar\u001b[0m\u001b[0;34m(\u001b[0m\u001b[0mresult\u001b[0m\u001b[0;34m)\u001b[0m\u001b[0;34m:\u001b[0m\u001b[0;34m\u001b[0m\u001b[0m\n",
      "\u001b[0;32m~/anaconda3/lib/python3.6/site-packages/pandas/core/indexes/base.py\u001b[0m in \u001b[0;36mget_value\u001b[0;34m(self, series, key)\u001b[0m\n\u001b[1;32m   3101\u001b[0m         \u001b[0;32mtry\u001b[0m\u001b[0;34m:\u001b[0m\u001b[0;34m\u001b[0m\u001b[0m\n\u001b[1;32m   3102\u001b[0m             return self._engine.get_value(s, k,\n\u001b[0;32m-> 3103\u001b[0;31m                                           tz=getattr(series.dtype, 'tz', None))\n\u001b[0m\u001b[1;32m   3104\u001b[0m         \u001b[0;32mexcept\u001b[0m \u001b[0mKeyError\u001b[0m \u001b[0;32mas\u001b[0m \u001b[0me1\u001b[0m\u001b[0;34m:\u001b[0m\u001b[0;34m\u001b[0m\u001b[0m\n\u001b[1;32m   3105\u001b[0m             \u001b[0;32mif\u001b[0m \u001b[0mlen\u001b[0m\u001b[0;34m(\u001b[0m\u001b[0mself\u001b[0m\u001b[0;34m)\u001b[0m \u001b[0;34m>\u001b[0m \u001b[0;36m0\u001b[0m \u001b[0;32mand\u001b[0m \u001b[0mself\u001b[0m\u001b[0;34m.\u001b[0m\u001b[0minferred_type\u001b[0m \u001b[0;32min\u001b[0m \u001b[0;34m[\u001b[0m\u001b[0;34m'integer'\u001b[0m\u001b[0;34m,\u001b[0m \u001b[0;34m'boolean'\u001b[0m\u001b[0;34m]\u001b[0m\u001b[0;34m:\u001b[0m\u001b[0;34m\u001b[0m\u001b[0m\n",
      "\u001b[0;32mpandas/_libs/index.pyx\u001b[0m in \u001b[0;36mpandas._libs.index.IndexEngine.get_value\u001b[0;34m()\u001b[0m\n",
      "\u001b[0;32mpandas/_libs/index.pyx\u001b[0m in \u001b[0;36mpandas._libs.index.IndexEngine.get_value\u001b[0;34m()\u001b[0m\n",
      "\u001b[0;32mpandas/_libs/index.pyx\u001b[0m in \u001b[0;36mpandas._libs.index.IndexEngine.get_loc\u001b[0;34m()\u001b[0m\n",
      "\u001b[0;32mpandas/_libs/hashtable_class_helper.pxi\u001b[0m in \u001b[0;36mpandas._libs.hashtable.Int64HashTable.get_item\u001b[0;34m()\u001b[0m\n",
      "\u001b[0;32mpandas/_libs/hashtable_class_helper.pxi\u001b[0m in \u001b[0;36mpandas._libs.hashtable.Int64HashTable.get_item\u001b[0;34m()\u001b[0m\n",
      "\u001b[0;31mKeyError\u001b[0m: 0"
     ]
    }
   ],
   "source": [
    "scrape_values(data)"
   ]
  }
 ],
 "metadata": {
  "kernelspec": {
   "display_name": "Python 3",
   "language": "python",
   "name": "python3"
  },
  "language_info": {
   "codemirror_mode": {
    "name": "ipython",
    "version": 3
   },
   "file_extension": ".py",
   "mimetype": "text/x-python",
   "name": "python",
   "nbconvert_exporter": "python",
   "pygments_lexer": "ipython3",
   "version": "3.6.5"
  }
 },
 "nbformat": 4,
 "nbformat_minor": 2
}
